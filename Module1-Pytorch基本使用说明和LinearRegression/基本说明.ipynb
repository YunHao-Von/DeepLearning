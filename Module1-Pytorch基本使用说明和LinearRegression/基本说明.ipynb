{
 "cells": [
  {
   "cell_type": "code",
   "execution_count": 3,
   "metadata": {},
   "outputs": [
    {
     "name": "stdout",
     "output_type": "stream",
     "text": [
      "True\n"
     ]
    }
   ],
   "source": [
    "import os\n",
    "import torch  # 引入Pytorch库\n",
    "print(torch.cuda.is_available())  # 测试GPU是否可用,为True则表示GPU可用\n",
    "os.environ[\"CUDA_VISIBLE_DEVICES\"] = \"0\"  # 指定程序在第一块GPU上运行\n"
   ]
  },
  {
   "cell_type": "code",
   "execution_count": 4,
   "metadata": {},
   "outputs": [
    {
     "name": "stdout",
     "output_type": "stream",
     "text": [
      "tensor([4.])\n",
      "tensor([4.], requires_grad=True)\n",
      "tensor([4.])\n"
     ]
    }
   ],
   "source": [
    "import torch\n",
    "from torch.autograd import Variable\n",
    "a = torch.FloatTensor([4])  # 定义张量a\n",
    "print(Variable(a))  # 把张量a转化为Variable对象，输出:tensor([4.])\n",
    "# 把张量a转化为支持梯度计算的Variable对象，输出:tensor([4.], requires_grad=True)\n",
    "print(Variable(a, requires_grad=True))\n",
    "print(a.data)  # Variable对象转化为张量，输出:tensor([4.])\n"
   ]
  },
  {
   "cell_type": "code",
   "execution_count": 10,
   "metadata": {},
   "outputs": [
    {
     "name": "stdout",
     "output_type": "stream",
     "text": [
      "tensor(3., grad_fn=<MeanBackward0>) tensor([[0.2500, 0.2500],\n",
      "        [0.2500, 0.2500]])\n"
     ]
    }
   ],
   "source": [
    "import torch\n",
    "x = torch.ones(2, 2, requires_grad=True)  # 定义一个Variable对象，并且打开梯度计算\n",
    "m = x + 2  # 通过计算得到了m变量\n",
    "f = m.mean()  # 通过m的mean()方法，得到了一个标量\n",
    "f.backward()  # 调用标量的backward()进行自动求导\n",
    "print(f, x.grad)"
   ]
  }
 ],
 "metadata": {
  "kernelspec": {
   "display_name": "Python 3.8.3 ('base')",
   "language": "python",
   "name": "python3"
  },
  "language_info": {
   "codemirror_mode": {
    "name": "ipython",
    "version": 3
   },
   "file_extension": ".py",
   "mimetype": "text/x-python",
   "name": "python",
   "nbconvert_exporter": "python",
   "pygments_lexer": "ipython3",
   "version": "3.8.3"
  },
  "orig_nbformat": 4,
  "vscode": {
   "interpreter": {
    "hash": "d12a6980af1de3549060b7b451d48d445ec6b4aaeaf0b0e12a509d2182e95745"
   }
  }
 },
 "nbformat": 4,
 "nbformat_minor": 2
}
