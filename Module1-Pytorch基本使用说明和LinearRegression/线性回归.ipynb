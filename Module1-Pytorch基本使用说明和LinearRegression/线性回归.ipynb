{
 "cells": [
  {
   "cell_type": "code",
   "execution_count": null,
   "metadata": {},
   "outputs": [],
   "source": [
    "train_path = 'Data/covid.train.csv'\n",
    "test_path = 'Data/covid.test.csv'\n",
    "import pandas as pd\n",
    "data = pd.read_csv(train_path)\n",
    "data.shape"
   ]
  },
  {
   "cell_type": "code",
   "execution_count": null,
   "metadata": {},
   "outputs": [],
   "source": [
    "import torch\n",
    "import torch.nn as nn\n",
    "from torch.utils.data import DataLoader,Dataset\n",
    "torch.set_default_tensor_type(torch.DoubleTensor)\n",
    "\n",
    "import numpy as np\n",
    "import csv\n",
    "import os\n",
    "import matplotlib.pyplot as plt\n",
    "from matplotlib.pyplot import figure\n",
    "myseed = 42069  # 创作随机数种子\n",
    "torch.backends.cudnn.deterministic = True  # 每次返回的卷积算法将是确定的，即默认算法\n",
    "torch.backends.cudnn.benchmark = False  # 设定不用自行探索卷积算法\n",
    "np.random.seed(myseed)\n",
    "torch.manual_seed(myseed)\n",
    "if torch.cuda.is_available():\n",
    "    torch.cuda.manual_seed_all(myseed)\n"
   ]
  },
  {
   "cell_type": "code",
   "execution_count": null,
   "metadata": {},
   "outputs": [],
   "source": [
    "class CovidDataset(Dataset):\n",
    "    def __init__(self,path) -> None:\n",
    "        self.features = list(range(1,94))\n",
    "        data = pd.read_csv(path)\n",
    "        data = np.array(data)\n",
    "        self.target = data[:,-1]\n",
    "        self.data = data[:,self.features]\n",
    "    \n",
    "    def __getitem__(self, index):\n",
    "        return self.data[index],self.target[index]\n",
    "    \n",
    "    def __len__(self):\n",
    "        return self.data.shape[0]\n",
    "covid_dataset = CovidDataset(train_path)\n",
    "covid_dataloader = DataLoader(covid_dataset,64,shuffle=True,drop_last=False)"
   ]
  },
  {
   "cell_type": "code",
   "execution_count": null,
   "metadata": {},
   "outputs": [],
   "source": [
    "class LinearNet(nn.Module):\n",
    "    def __init__(self,input_dim):\n",
    "        super(LinearNet,self).__init__()\n",
    "        self.linear1 = nn.Linear(input_dim,64)\n",
    "        self.relu1 = nn.ReLU()\n",
    "        self.linear2 = nn.Linear(64,1)\n",
    "        self.criterion = nn.MSELoss(reduction='mean')\n",
    "    \n",
    "    def forward(self,x):\n",
    "        x = self.linear1(x)\n",
    "        x = self.relu1(x)\n",
    "        x = self.linear2(x)\n",
    "        return x\n",
    "    \n",
    "    def getloss(self, x, y):  # 实现LogicNet类的损失值接口\n",
    "        y_pred = self.forward(x)\n",
    "        loss = self.criterion(y_pred, y)  # 计算损失值的交叉熵\n",
    "        return loss\n"
   ]
  },
  {
   "cell_type": "code",
   "execution_count": null,
   "metadata": {},
   "outputs": [],
   "source": [
    "from numpy import average\n",
    "\n",
    "\n",
    "model = LinearNet(93)\n",
    "optimizer = torch.optim.SGD(model.parameters(), lr=0.001)\n",
    "for i in range(200):\n",
    "    losses = list()\n",
    "    for x,y in covid_dataloader:\n",
    "        optimizer.zero_grad()\n",
    "        loss = model.getloss(x,y)\n",
    "        losses.append(loss.item())\n",
    "        loss.backward()\n",
    "        optimizer.step()\n",
    "    print(average(losses))"
   ]
  },
  {
   "cell_type": "code",
   "execution_count": null,
   "metadata": {},
   "outputs": [],
   "source": [
    "test = pd.read_csv(test_path)\n",
    "test = np.array(test)[:, list(range(1, 94))]\n",
    "test = torch.tensor(test)\n",
    "model.forward(test)"
   ]
  }
 ],
 "metadata": {
  "kernelspec": {
   "display_name": "Python 3.8.3 ('base')",
   "language": "python",
   "name": "python3"
  },
  "language_info": {
   "codemirror_mode": {
    "name": "ipython",
    "version": 3
   },
   "file_extension": ".py",
   "mimetype": "text/x-python",
   "name": "python",
   "nbconvert_exporter": "python",
   "pygments_lexer": "ipython3",
   "version": "3.8.3"
  },
  "orig_nbformat": 4,
  "vscode": {
   "interpreter": {
    "hash": "d12a6980af1de3549060b7b451d48d445ec6b4aaeaf0b0e12a509d2182e95745"
   }
  }
 },
 "nbformat": 4,
 "nbformat_minor": 2
}
