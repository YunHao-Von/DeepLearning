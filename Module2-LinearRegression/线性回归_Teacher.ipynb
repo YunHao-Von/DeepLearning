{
 "cells": [
  {
   "cell_type": "code",
   "execution_count": 1,
   "metadata": {},
   "outputs": [],
   "source": [
    "train_path = \"Data/covid.train.csv\"  # 训练集存储路径\n",
    "test_path = \"Data/covid.test.csv\"  # 测试集存储路径"
   ]
  },
  {
   "cell_type": "code",
   "execution_count": 2,
   "metadata": {},
   "outputs": [],
   "source": [
    "import torch\n",
    "import torch.nn as nn\n",
    "from torch.utils.data import DataLoader, Dataset\n",
    "\n",
    "import numpy as np\n",
    "import pandas as pd\n",
    "import os\n",
    "import matplotlib.pyplot as plt\n",
    "from matplotlib.pyplot import figure\n",
    "myseed = 42069  # 创作随机数种子\n",
    "torch.backends.cudnn.deterministic = True  # 每次返回的卷积算法将是确定的，即默认算法\n",
    "torch.backends.cudnn.benchmark = False  # 设定不用自行探索卷积算法\n",
    "np.random.seed(myseed)\n",
    "torch.manual_seed(myseed)\n",
    "if torch.cuda.is_available():\n",
    "    torch.cuda.manual_seed_all(myseed)\n"
   ]
  },
  {
   "cell_type": "code",
   "execution_count": 3,
   "metadata": {},
   "outputs": [],
   "source": [
    "def get_device():\n",
    "    return 'cuda' if torch.cuda.is_available() else 'cpu'\n",
    "\n",
    "def plot_learning_curve(loss_record,title=\"Learning Curve Figure\"):\n",
    "    \"\"\"本函数用于绘制学习曲线\"\"\"\n",
    "    total_steps = len(loss_record['train'])\n",
    "    x_1 = range(total_steps)  # 生成x轴坐标\n",
    "    x_2 = x_1[::len(loss_record['train']) // len(loss_record['dev'])]  # 每隔x个输出一个值\n",
    "    figure(figsize=(6,4))  # 指定画布大小\n",
    "    plt.plot(x_1,loss_record['train'],c='tab:red',label='train')  # 绘制训练过程中的训练集的损失\n",
    "    plt.plot(x_2,loss_record['dev'],c='tab:cyan',label='dev')  # 绘制训练过程中的验证集的损失\n",
    "    plt.ylim(0.0,5.0)\n",
    "    plt.xlabel(\"Training steps\")\n",
    "    plt.ylabel('MSE loss')\n",
    "    plt.title('Learning curve of {}'.format(title))\n",
    "    plt.legend()  # 显示刻度\n",
    "    plt.show()\n",
    "\n",
    "\n",
    "def plot_pred(dv_set, model, device, lim=35., preds=None, targets=None):\n",
    "    ''' Plot prediction of your DNN '''\n",
    "    if preds is None or targets is None:\n",
    "        model.eval()\n",
    "        preds, targets = [], []\n",
    "        for x, y in dv_set:\n",
    "            x, y = x.to(device), y.to(device)\n",
    "            with torch.no_grad():\n",
    "                pred = model(x)\n",
    "                preds.append(pred.detach().cpu())\n",
    "                targets.append(y.detach().cpu())\n",
    "        preds = torch.cat(preds, dim=0).numpy()\n",
    "        targets = torch.cat(targets, dim=0).numpy()\n",
    "\n",
    "    figure(figsize=(5, 5))\n",
    "    plt.scatter(targets, preds, c='r', alpha=0.5)\n",
    "    plt.plot([-0.2, lim], [-0.2, lim], c='b')\n",
    "    plt.xlim(-0.2, lim)\n",
    "    plt.ylim(-0.2, lim)\n",
    "    plt.xlabel('ground truth value')\n",
    "    plt.ylabel('predicted value')\n",
    "    plt.title('Ground Truth v.s. Prediction')\n",
    "    plt.show()\n"
   ]
  },
  {
   "cell_type": "code",
   "execution_count": 4,
   "metadata": {},
   "outputs": [],
   "source": [
    "class CovidDataset(Dataset):\n",
    "    def __init__(self,path,mode='train',target_only=False):\n",
    "        self.mode = mode\n",
    "        data = pd.read_csv(path)  # 读取数据\n",
    "        data = np.array(data)[:,1:].astype(float)  # 将数据转化为array格式\n",
    "        if not target_only:\n",
    "            feats = list(range(93))  # 特征列的列号列表(因为最后一列是标签)\n",
    "        else:\n",
    "            pass\n",
    "        if mode=='test':  # 进入测试模式\n",
    "            data = data[:,feats]\n",
    "            self.data = torch.FloatTensor(data)  # 将数据转化为张量并存储起来\n",
    "        else:  # 进入训练模式或者验证模式\n",
    "            target = data[:,-1]  # 拿到target\n",
    "            data = data[:,feats]  # 拿到features\n",
    "            if mode == 'train':\n",
    "                \"\"\"每十行抽一个数据出来做验证集\"\"\"\n",
    "                indices = [i for i in range(len(data)) if i%10!=0]\n",
    "            else:\n",
    "                indices = [i for i in range(len(data)) if i % 10 == 0]\n",
    "            self.data = torch.FloatTensor(data[indices])\n",
    "            self.target = torch.FloatTensor(target[indices])\n",
    "        \"\"\"对40列以后的数据做Mean-Std标准化\"\"\"\n",
    "        self.data[:, 40:] = (self.data[:, 40:]-self.data[:, 40:].mean(dim=0,keepdim=True))/self.data[:, 40:].std(dim=0,keepdim=True)\n",
    "        self.dim = self.data.shape[1]  # 返回特征列数\n",
    "        print(\"数据集制作完成\")\n",
    "    \n",
    "    def __getitem__(self, index):\n",
    "        if self.mode in ['train','dev']:\n",
    "            \"\"\"训练和验证模式下返回特征和标签\"\"\"\n",
    "            return self.data[index],self.target[index]\n",
    "        else:\n",
    "            \"\"\"测试模式下只返回特征\"\"\"\n",
    "            return self.data[index]\n",
    "    \n",
    "    def __len__(self):\n",
    "        return self.data.shape[0]"
   ]
  },
  {
   "cell_type": "code",
   "execution_count": 5,
   "metadata": {},
   "outputs": [],
   "source": [
    "def prep_dataloader(path,mode,batch_size,n_jobs=0,target_only=False):\n",
    "    dataset = CovidDataset(path=path,mode=mode,target_only=target_only)  # 实例化一个数据集\n",
    "    dataloader = DataLoader(dataset,batch_size=batch_size,shuffle=(mode=='train'),drop_last=False,num_workers=n_jobs,\n",
    "                            pin_memory=True)\n",
    "    return dataloader"
   ]
  },
  {
   "cell_type": "code",
   "execution_count": 6,
   "metadata": {},
   "outputs": [],
   "source": [
    "class NeuralNet(nn.Module):\n",
    "    def __init__(self,input_dim):\n",
    "        super(NeuralNet, self).__init__()\n",
    "        self.linear1 = nn.Linear(input_dim,64)\n",
    "        self.relu1 = nn.ReLU()\n",
    "        self.linear2 = nn.Linear(64,1)\n",
    "        self.criterion = nn.MSELoss(reduction='mean')\n",
    "    \n",
    "    def forward(self,x):\n",
    "        x = self.linear1(x)\n",
    "        x = self.relu1(x)\n",
    "        x = self.linear2(x)\n",
    "        return x\n",
    "    \n",
    "    def cal_loss(self,pred,target):\n",
    "        return self.criterion(pred,target)\n"
   ]
  },
  {
   "cell_type": "code",
   "execution_count": 7,
   "metadata": {},
   "outputs": [],
   "source": [
    "def train(tr_set,dv_set,model,config,device):\n",
    "    n_epochs = config['n_epochs']  # epochs最大值\n",
    "    optimizer = getattr(torch.optim,config['optimizer'])(model.parameters(),**config['optim_hparas'])  # 获取优化器\n",
    "    min_mse = 1000\n",
    "    loss_record = {'train':[],'dev':[]}  # 生成字典嵌套列表来记录损失值\n",
    "    early_stop_cnt = 0\n",
    "    epoch = 0\n",
    "    while epoch < n_epochs:\n",
    "        model.train()  # 让模型进入训练模式\n",
    "        for x,y in tr_set:  # 从dataloader里拿到数据\n",
    "            optimizer.zero_grad()  # 清空优化器中的梯度值\n",
    "            x, y = x.to(device),y.to(device)  # 将数据存储到指定device中\n",
    "            pred = model(x)  # 执行forward方法\n",
    "            mse_loss = model.cal_loss(pred,y)  # 计算本轮训练得出来的损失值\n",
    "            mse_loss.backward()  # 计算梯度\n",
    "            optimizer.step()  # 根据计算出来的梯度更新模型参数，更新模型\n",
    "            loss_record['train'].append(mse_loss.detach().cpu().item())  # 存储损失值\n",
    "        \n",
    "        \"\"\"每轮epoch跑完之后,要使用验证集进行验证\"\"\"\n",
    "        dev_mse = dev(dv_set,model,device)\n",
    "        if dev_mse < min_mse:\n",
    "            \"\"\"如果模型验证结果比目前最优结果要好,则应该保留本轮epoch的参数\"\"\"\n",
    "            min_mse = dev_mse  # 更新目前最优模型结果\n",
    "            print(\"保存局部最优模型,epoch={:4d},loss={:.4f}\".format(epoch+1, min_mse))\n",
    "            torch.save(model.state_dict(),config['save_path'])  # 保存当前模型在指定路径下\n",
    "            early_stop_cnt = 0\n",
    "        else:\n",
    "            early_stop_cnt += 1\n",
    "        epoch += 1\n",
    "        loss_record['dev'].append(dev_mse)  # 存储当前验证集的损失\n",
    "        if early_stop_cnt > config['early_stop']:\n",
    "            break\n",
    "    print(\"在经过{}epoch后完成训练\".format(epoch))\n",
    "    return min_mse,loss_record\n"
   ]
  },
  {
   "cell_type": "code",
   "execution_count": 8,
   "metadata": {},
   "outputs": [],
   "source": [
    "def test(tt_set,model,device):\n",
    "    model.eval()  # 进入验证模式\n",
    "    preds = list()\n",
    "    for x in tt_set:\n",
    "        x = x.to(device)\n",
    "        with torch.no_grad():  # 验证这部分无需梯度\n",
    "            pred = model(x)  # 执行forward函数\n",
    "            preds.append(pred.detach().cpu())\n",
    "    preds = torch.cat(preds,dim=0).numpy()\n",
    "    return preds"
   ]
  },
  {
   "cell_type": "code",
   "execution_count": 9,
   "metadata": {},
   "outputs": [],
   "source": [
    "def dev(dv_set,model,device):\n",
    "    model.eval()  # 设定模型进入验证模式\n",
    "    total_loss = 0\n",
    "    for x,y in dv_set:\n",
    "        x,y = x.to(device),y.to(device)\n",
    "        with torch.no_grad():  # 验证这部分无需梯度\n",
    "            pred = model(x)  # 执行forward函数\n",
    "            mse_loss = model.cal_loss(pred,y)  # 计算验证集的损失\n",
    "        total_loss += mse_loss.detach().cpu().item() * len(x)  # 计算总损失值\n",
    "    total_loss = total_loss/len(dv_set.dataset)  # 计算平均损失\n",
    "    return total_loss\n"
   ]
  },
  {
   "cell_type": "code",
   "execution_count": 10,
   "metadata": {},
   "outputs": [],
   "source": [
    "device = get_device()  # 获得当前算法运行机器\n",
    "os.makedirs('models',exist_ok=True)  # 生成models文件夹来存储局部最优模型\n",
    "target_only = False\n",
    "config = {\n",
    "    'n_epochs': 3000,                # 设定epochs最大值\n",
    "    'batch_size': 270,               # 设定batch-size\n",
    "    # optimization algorithm (optimizer in torch.optim)\n",
    "    'optimizer': 'SGD',\n",
    "    'optim_hparas': {                # hyper-parameters for the optimizer (depends on which optimizer you are using)\n",
    "        'lr': 0.001,                 # learning rate of SGD\n",
    "        'momentum': 0.9              # momentum for SGD\n",
    "    },\n",
    "    # early stopping epochs (the number epochs since your model's last improvement)\n",
    "    'early_stop': 200,\n",
    "    'save_path': 'models/model.pth'  # your model will be saved here\n",
    "}\n"
   ]
  },
  {
   "cell_type": "code",
   "execution_count": 11,
   "metadata": {},
   "outputs": [
    {
     "name": "stdout",
     "output_type": "stream",
     "text": [
      "数据集制作完成\n",
      "数据集制作完成\n",
      "数据集制作完成\n"
     ]
    }
   ],
   "source": [
    "tr_set = prep_dataloader(\n",
    "    train_path, 'train', config['batch_size'], target_only=target_only)\n",
    "dv_set = prep_dataloader(\n",
    "    train_path, 'dev', config['batch_size'], target_only=target_only)\n",
    "tt_set = prep_dataloader(\n",
    "    test_path, 'test', config['batch_size'], target_only=target_only)\n",
    "model = NeuralNet(tr_set.dataset.dim).to(\n",
    "    device)  # Construct model and move to device\n"
   ]
  },
  {
   "cell_type": "code",
   "execution_count": 12,
   "metadata": {},
   "outputs": [
    {
     "name": "stderr",
     "output_type": "stream",
     "text": [
      "f:\\Anaconda3\\lib\\site-packages\\torch\\nn\\modules\\loss.py:520: UserWarning: Using a target size (torch.Size([270])) that is different to the input size (torch.Size([270, 1])). This will likely lead to incorrect results due to broadcasting. Please ensure they have the same size.\n",
      "  return F.mse_loss(input, target, reduction=self.reduction)\n"
     ]
    },
    {
     "name": "stdout",
     "output_type": "stream",
     "text": [
      "保存局部最优模型,epoch=   1,loss=144.7356\n",
      "保存局部最优模型,epoch=   2,loss=80.6683\n",
      "保存局部最优模型,epoch=   3,loss=72.8719\n",
      "保存局部最优模型,epoch=   4,loss=67.6927\n",
      "保存局部最优模型,epoch=   5,loss=65.2459\n",
      "保存局部最优模型,epoch=   6,loss=63.6977\n",
      "保存局部最优模型,epoch=   7,loss=62.4508\n",
      "保存局部最优模型,epoch=   8,loss=61.8533\n",
      "保存局部最优模型,epoch=   9,loss=61.1960\n",
      "保存局部最优模型,epoch=  10,loss=60.8745\n",
      "保存局部最优模型,epoch=  11,loss=60.5770\n",
      "保存局部最优模型,epoch=  12,loss=60.3909\n",
      "保存局部最优模型,epoch=  13,loss=60.1961\n",
      "保存局部最优模型,epoch=  14,loss=60.0483\n",
      "保存局部最优模型,epoch=  15,loss=59.9338\n",
      "保存局部最优模型,epoch=  16,loss=59.8195\n",
      "保存局部最优模型,epoch=  17,loss=59.7245\n",
      "保存局部最优模型,epoch=  18,loss=59.6790\n",
      "保存局部最优模型,epoch=  20,loss=59.5582\n",
      "保存局部最优模型,epoch=  21,loss=59.4640\n",
      "保存局部最优模型,epoch=  22,loss=59.4020\n",
      "保存局部最优模型,epoch=  23,loss=59.3791\n",
      "保存局部最优模型,epoch=  25,loss=59.3005\n",
      "保存局部最优模型,epoch=  26,loss=59.2624\n",
      "保存局部最优模型,epoch=  28,loss=59.2133\n",
      "保存局部最优模型,epoch=  29,loss=59.1890\n",
      "保存局部最优模型,epoch=  32,loss=59.1575\n",
      "保存局部最优模型,epoch=  33,loss=59.1372\n",
      "保存局部最优模型,epoch=  36,loss=59.1281\n",
      "保存局部最优模型,epoch=  37,loss=59.1120\n",
      "保存局部最优模型,epoch=  38,loss=59.1114\n",
      "保存局部最优模型,epoch=  39,loss=59.0891\n",
      "保存局部最优模型,epoch=  40,loss=59.0788\n",
      "保存局部最优模型,epoch=  44,loss=59.0721\n",
      "保存局部最优模型,epoch=  46,loss=59.0668\n",
      "保存局部最优模型,epoch=  47,loss=59.0608\n",
      "保存局部最优模型,epoch=  51,loss=59.0404\n",
      "保存局部最优模型,epoch=  55,loss=59.0321\n",
      "保存局部最优模型,epoch=  57,loss=59.0294\n",
      "保存局部最优模型,epoch=  60,loss=59.0226\n",
      "保存局部最优模型,epoch=  68,loss=59.0170\n",
      "保存局部最优模型,epoch=  73,loss=59.0093\n",
      "保存局部最优模型,epoch=  74,loss=59.0064\n",
      "保存局部最优模型,epoch=  77,loss=59.0049\n",
      "保存局部最优模型,epoch=  80,loss=59.0018\n",
      "保存局部最优模型,epoch=  88,loss=58.9940\n",
      "保存局部最优模型,epoch=  97,loss=58.9920\n",
      "保存局部最优模型,epoch=  98,loss=58.9908\n",
      "保存局部最优模型,epoch= 100,loss=58.9898\n",
      "保存局部最优模型,epoch= 107,loss=58.9860\n",
      "保存局部最优模型,epoch= 111,loss=58.9858\n",
      "保存局部最优模型,epoch= 119,loss=58.9816\n",
      "保存局部最优模型,epoch= 128,loss=58.9763\n",
      "保存局部最优模型,epoch= 136,loss=58.9759\n",
      "保存局部最优模型,epoch= 152,loss=58.9746\n",
      "保存局部最优模型,epoch= 153,loss=58.9709\n",
      "保存局部最优模型,epoch= 155,loss=58.9692\n",
      "保存局部最优模型,epoch= 162,loss=58.9688\n",
      "保存局部最优模型,epoch= 183,loss=58.9688\n",
      "保存局部最优模型,epoch= 185,loss=58.9679\n",
      "保存局部最优模型,epoch= 192,loss=58.9654\n",
      "保存局部最优模型,epoch= 210,loss=58.9615\n",
      "保存局部最优模型,epoch= 221,loss=58.9603\n",
      "保存局部最优模型,epoch= 237,loss=58.9598\n",
      "保存局部最优模型,epoch= 268,loss=58.9592\n",
      "保存局部最优模型,epoch= 284,loss=58.9583\n",
      "保存局部最优模型,epoch= 291,loss=58.9564\n",
      "保存局部最优模型,epoch= 314,loss=58.9555\n",
      "保存局部最优模型,epoch= 359,loss=58.9550\n",
      "保存局部最优模型,epoch= 379,loss=58.9540\n",
      "保存局部最优模型,epoch= 424,loss=58.9538\n",
      "保存局部最优模型,epoch= 433,loss=58.9528\n",
      "保存局部最优模型,epoch= 434,loss=58.9519\n",
      "保存局部最优模型,epoch= 503,loss=58.9511\n",
      "保存局部最优模型,epoch= 561,loss=58.9503\n",
      "保存局部最优模型,epoch= 647,loss=58.9497\n",
      "保存局部最优模型,epoch= 686,loss=58.9495\n",
      "保存局部最优模型,epoch= 756,loss=58.9491\n",
      "保存局部最优模型,epoch= 888,loss=58.9490\n",
      "保存局部最优模型,epoch= 890,loss=58.9489\n",
      "保存局部最优模型,epoch= 892,loss=58.9489\n",
      "保存局部最优模型,epoch= 953,loss=58.9486\n",
      "保存局部最优模型,epoch=1067,loss=58.9485\n",
      "保存局部最优模型,epoch=1074,loss=58.9482\n",
      "保存局部最优模型,epoch=1210,loss=58.9482\n",
      "保存局部最优模型,epoch=1243,loss=58.9472\n",
      "在经过1444epoch后完成训练\n"
     ]
    }
   ],
   "source": [
    "model_loss, model_loss_record = train(tr_set, dv_set, model, config, device)\n"
   ]
  },
  {
   "cell_type": "code",
   "execution_count": 13,
   "metadata": {},
   "outputs": [
    {
     "data": {
      "image/png": "[encoded data removed]",
      "text/plain": [
       "<Figure size 432x288 with 1 Axes>"
      ]
     },
     "metadata": {
      "needs_background": "light"
     },
     "output_type": "display_data"
    }
   ],
   "source": [
    "plot_learning_curve(model_loss_record, title='deep model')\n"
   ]
  },
  {
   "cell_type": "code",
   "execution_count": 14,
   "metadata": {},
   "outputs": [
    {
     "data": {
      "image/png": "[encoded data removed]",
      "text/plain": [
       "<Figure size 360x360 with 1 Axes>"
      ]
     },
     "metadata": {
      "needs_background": "light"
     },
     "output_type": "display_data"
    }
   ],
   "source": [
    "del model\n",
    "model = NeuralNet(tr_set.dataset.dim).to(device)\n",
    "ckpt = torch.load(config['save_path'], map_location='cpu')  # 载入现存的最好模型\n",
    "model.load_state_dict(ckpt)\n",
    "plot_pred(dv_set, model, device)  # Show prediction on the validation set\n"
   ]
  },
  {
   "cell_type": "code",
   "execution_count": 15,
   "metadata": {},
   "outputs": [
    {
     "name": "stdout",
     "output_type": "stream",
     "text": [
      "Saving results to pred.csv\n"
     ]
    }
   ],
   "source": [
    "import csv\n",
    "def save_pred(preds, file):\n",
    "    ''' 保存预测结果'''\n",
    "    print('Saving results to {}'.format(file))\n",
    "    with open(file, 'w') as fp:\n",
    "        writer = csv.writer(fp)\n",
    "        writer.writerow(['id', 'tested_positive'])\n",
    "        for i, p in enumerate(preds):\n",
    "            writer.writerow([i, p])\n",
    "\n",
    "\n",
    "preds = test(tt_set, model, device)  # predict COVID-19 cases with your model\n",
    "save_pred(preds, 'pred.csv')         # save prediction file to pred.csv\n"
   ]
  }
 ],
 "metadata": {
  "kernelspec": {
   "display_name": "Python 3.8.3 ('base')",
   "language": "python",
   "name": "python3"
  },
  "language_info": {
   "codemirror_mode": {
    "name": "ipython",
    "version": 3
   },
   "file_extension": ".py",
   "mimetype": "text/x-python",
   "name": "python",
   "nbconvert_exporter": "python",
   "pygments_lexer": "ipython3",
   "version": "3.8.3"
  },
  "orig_nbformat": 4,
  "vscode": {
   "interpreter": {
    "hash": "d12a6980af1de3549060b7b451d48d445ec6b4aaeaf0b0e12a509d2182e95745"
   }
  }
 },
 "nbformat": 4,
 "nbformat_minor": 2
}
